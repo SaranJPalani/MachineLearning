{
 "cells": [
  {
   "cell_type": "code",
   "execution_count": 3,
   "metadata": {},
   "outputs": [
    {
     "name": "stdout",
     "output_type": "stream",
     "text": [
      "[(7, 3), (4, 6), (3, 7), (6, 4)]\n"
     ]
    }
   ],
   "source": [
    "a = [2,7,4,1,3,6]\n",
    "b = []\n",
    "for i in a:\n",
    "    for j in a:\n",
    "        if i != j and i+j == 10:\n",
    "            b.append((i,j))\n",
    "print(b)"
   ]
  },
  {
   "cell_type": "code",
   "execution_count": 1,
   "metadata": {},
   "outputs": [
    {
     "name": "stdout",
     "output_type": "stream",
     "text": [
      "range =  8\n"
     ]
    }
   ],
   "source": [
    "a = []\n",
    "a.append(int(input(\"Enter a number: \")))\n",
    "\n",
    "while True:\n",
    "    x = int(input(\"press 0 to quit: \"))\n",
    "    if x == 0:\n",
    "        break\n",
    "    a.append(int(input(\"Enter a number: \")))\n",
    "if len(a) < 3:\n",
    "    print(\"Error\")\n",
    "else:\n",
    "    print(\"range = \",max(a)-min(a))"
   ]
  },
  {
   "cell_type": "code",
   "execution_count": 14,
   "metadata": {},
   "outputs": [
    {
     "name": "stdout",
     "output_type": "stream",
     "text": [
      "Enter the elements of the matrix:\n",
      "Enter the argument:\n",
      "[[1 0]\n",
      " [0 1]]\n"
     ]
    }
   ],
   "source": [
    "import numpy as np\n",
    "num_r=int(input(\"Enter number of rows:\"))\n",
    "num_c = int(input(\"Enter number of columns:\"))\n",
    "if num_r==num_c:\n",
    "    print(\"Enter the elements of the matrix:\")\n",
    "    A = np.array([[int(input()) for i in range(num_c)] for j in range(num_r)])\n",
    "    print(\"Enter the argument:\")\n",
    "    m = int(input())\n",
    "    print(pow(A,m))\n"
   ]
  },
  {
   "cell_type": "code",
   "execution_count": 15,
   "metadata": {},
   "outputs": [
    {
     "name": "stdout",
     "output_type": "stream",
     "text": [
      "a\n"
     ]
    }
   ],
   "source": [
    "string1=\"saran\"\n",
    "\n",
    "def occurance(string):\n",
    "    dict1={}\n",
    "    for i in string:\n",
    "        if i in dict1:\n",
    "            dict1[i]+=1\n",
    "        else:\n",
    "            dict1[i]=1\n",
    "        \n",
    "    return (dict1)\n",
    "\n",
    "a = occurance(string1)\n",
    "print(max(a,key=a.get))"
   ]
  }
 ],
 "metadata": {
  "kernelspec": {
   "display_name": "Python 3",
   "language": "python",
   "name": "python3"
  },
  "language_info": {
   "codemirror_mode": {
    "name": "ipython",
    "version": 3
   },
   "file_extension": ".py",
   "mimetype": "text/x-python",
   "name": "python",
   "nbconvert_exporter": "python",
   "pygments_lexer": "ipython3",
   "version": "3.12.8"
  }
 },
 "nbformat": 4,
 "nbformat_minor": 2
}
